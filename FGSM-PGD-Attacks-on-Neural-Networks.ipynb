{
 "cells": [
  {
   "cell_type": "code",
   "execution_count": 1,
   "metadata": {},
   "outputs": [
    {
     "data": {
      "text/plain": [
       "<torch._C.Generator at 0x7f90a1b09f30>"
      ]
     },
     "execution_count": 1,
     "metadata": {},
     "output_type": "execute_result"
    }
   ],
   "source": [
    "import matplotlib.pyplot as plt\n",
    "import torch\n",
    "import torch.nn as nn\n",
    "import torch.optim as optim\n",
    "import torch.nn.functional as F\n",
    "import numpy as np\n",
    "import time\n",
    "from torchvision import datasets, transforms\n",
    "from tensorboardX import SummaryWriter\n",
    "use_cuda = False\n",
    "device = torch.device(\"cuda\" if use_cuda else \"cpu\")\n",
    "batch_size = 64\n",
    "\n",
    "\n",
    "# hard-code random seeds for deterministic outcomes\n",
    "np.random.seed(42)\n",
    "torch.manual_seed(42)\n"
   ]
  },
  {
   "cell_type": "code",
   "execution_count": 2,
   "metadata": {},
   "outputs": [
    {
     "name": "stderr",
     "output_type": "stream",
     "text": [
      "/Library/Frameworks/Python.framework/Versions/3.8/lib/python3.8/site-packages/torchvision/datasets/mnist.py:498: UserWarning: The given NumPy array is not writeable, and PyTorch does not support non-writeable tensors. This means you can write to the underlying (supposedly non-writeable) NumPy array using the tensor. You may want to copy the array to protect its data or make it writeable before converting it to a tensor. This type of warning will be suppressed for the rest of this program. (Triggered internally at  ../torch/csrc/utils/tensor_numpy.cpp:180.)\n",
      "  return torch.from_numpy(parsed.astype(m[2], copy=False)).view(*s)\n"
     ]
    }
   ],
   "source": [
    "# loading the dataset\n",
    "# note that this time we do not perfrom the normalization operation, see next cell\n",
    "test_dataset = datasets.MNIST('mnist_data/', train=False, download=True, transform=transforms.Compose(\n",
    "    [transforms.ToTensor()]\n",
    "))\n"
   ]
  },
  {
   "cell_type": "code",
   "execution_count": 3,
   "metadata": {},
   "outputs": [],
   "source": [
    "class Net(nn.Module):\n",
    "    def __init__(self):\n",
    "        super(Net, self).__init__()\n",
    "        self.fc = nn.Linear(28*28, 200)\n",
    "        self.fc2 = nn.Linear(200,10)\n",
    "\n",
    "    def forward(self, x):\n",
    "        x = x.view((-1, 28*28))\n",
    "        x = F.relu(self.fc(x))\n",
    "        x = self.fc2(x)\n",
    "        return x\n",
    "\n",
    "class ConvNet(nn.Module):\n",
    "    def __init__(self):\n",
    "        super(ConvNet, self).__init__()\n",
    "        self.conv1 = nn.Conv2d(1, 32, kernel_size=(5, 5))\n",
    "        self.bn1 = nn.BatchNorm2d(32)\n",
    "        self.conv2 = nn.Conv2d(32, 32, kernel_size=(5, 5))\n",
    "        self.bn2 = nn.BatchNorm2d(32)\n",
    "        self.conv2_drop = nn.Dropout2d(p=0.2)\n",
    "        self.fc1 = nn.Linear(128, 100)\n",
    "        self.fc2 = nn.Linear(100, 10)\n",
    "        self.conv3 = nn.Conv2d(32, 64, kernel_size=(3, 3))\n",
    "        self.bn3 = nn.BatchNorm2d(64)\n",
    "        self.conv4 = nn.Conv2d(64, 64, kernel_size=(3, 3))\n",
    "        self.bn4 = nn.BatchNorm2d(64)\n",
    "        self.conv5 = nn.Conv2d(64, 128, kernel_size=(3, 3))\n",
    "        self.bn5 = nn.BatchNorm2d(128)\n",
    "        self.conv6 = nn.Conv2d(128, 128, kernel_size=(1, 1))\n",
    "        self.bn6 = nn.BatchNorm2d(128)\n",
    "\n",
    "    def forward(self, x):\n",
    "        x = F.relu(self.conv1(x))\n",
    "        x = self.bn1(x)\n",
    "        x = F.relu(self.conv2(x))\n",
    "        x = self.conv2_drop(F.max_pool2d(self.bn2(x), 2))\n",
    "        x = F.relu(self.conv3(x))\n",
    "        x = self.bn3(x)\n",
    "        x = F.relu(self.conv4(x))\n",
    "        x = self.bn4(x)\n",
    "        x = F.max_pool2d(x, 2)\n",
    "        x = self.conv2_drop(x)\n",
    "        x = F.relu(self.conv5(x))\n",
    "        x = self.bn5(x)\n",
    "        x = F.relu(self.conv6(x))\n",
    "        x = self.bn6(x)\n",
    "        size = x.size()[1] * x.size()[2] * x.size()[3]\n",
    "        # print(size)\n",
    "        x = x.view(-1, size)\n",
    "        x = F.relu(self.fc1(x))\n",
    "        x = self.fc2(x)\n",
    "        return x\n",
    "\n",
    "\n",
    "\n",
    "class Normalize(nn.Module):\n",
    "    def forward(self, x):\n",
    "        return (x - 0.1307)/0.3081\n"
   ]
  },
  {
   "cell_type": "code",
   "execution_count": 4,
   "metadata": {},
   "outputs": [],
   "source": [
    "# define a show function for later\n",
    "def show(original, adv, model_to_prob):\n",
    "    p0 = model_to_prob(original).detach().numpy()\n",
    "    p1 = model_to_prob(adv).detach().numpy()\n",
    "    f, axarr = plt.subplots(1, 2)\n",
    "    \n",
    "    axarr[0].imshow(original.detach().numpy().reshape(28, 28), cmap='gray')\n",
    "    axarr[0].set_title(\"Original, class: \" + str(p0.argmax()))\n",
    "    axarr[1].imshow(adv.detach().numpy().reshape(28, 28), cmap='gray')\n",
    "    axarr[1].set_title(\"Original, class: \" + str(p1.argmax()))\n",
    "    print(\"Class\\t\\tOrig\\tAdv\")\n",
    "    \n",
    "    for i in range(10):\n",
    "        print(\"Class {}:\\t{:.2f}\\t{:.2f}\".format(\n",
    "            i, float(p0[:, i]), float(p1[:, i])))\n"
   ]
  },
  {
   "cell_type": "code",
   "execution_count": 5,
   "metadata": {},
   "outputs": [
    {
     "name": "stderr",
     "output_type": "stream",
     "text": [
      "/Library/Frameworks/Python.framework/Versions/3.8/lib/python3.8/site-packages/torch/serialization.py:637: UserWarning: Couldn't retrieve source code for container of type ConvNet. It won't be checked for correctness upon loading.\n",
      "  warnings.warn(\"Couldn't retrieve source code for container of \"\n",
      "/Library/Frameworks/Python.framework/Versions/3.8/lib/python3.8/site-packages/torch/serialization.py:671: SourceChangeWarning: source code of class 'torch.nn.modules.conv.Conv2d' has changed. you can retrieve the original source code by accessing the object's source attribute or set `torch.nn.Module.dump_patches = True` and use the patch tool to revert the changes.\n",
      "  warnings.warn(msg, SourceChangeWarning)\n",
      "/Library/Frameworks/Python.framework/Versions/3.8/lib/python3.8/site-packages/torch/serialization.py:671: SourceChangeWarning: source code of class 'torch.nn.modules.batchnorm.BatchNorm2d' has changed. you can retrieve the original source code by accessing the object's source attribute or set `torch.nn.Module.dump_patches = True` and use the patch tool to revert the changes.\n",
      "  warnings.warn(msg, SourceChangeWarning)\n",
      "/Library/Frameworks/Python.framework/Versions/3.8/lib/python3.8/site-packages/torch/serialization.py:671: SourceChangeWarning: source code of class 'torch.nn.modules.dropout.Dropout2d' has changed. you can retrieve the original source code by accessing the object's source attribute or set `torch.nn.Module.dump_patches = True` and use the patch tool to revert the changes.\n",
      "  warnings.warn(msg, SourceChangeWarning)\n",
      "/Library/Frameworks/Python.framework/Versions/3.8/lib/python3.8/site-packages/torch/serialization.py:671: SourceChangeWarning: source code of class 'torch.nn.modules.linear.Linear' has changed. you can retrieve the original source code by accessing the object's source attribute or set `torch.nn.Module.dump_patches = True` and use the patch tool to revert the changes.\n",
      "  warnings.warn(msg, SourceChangeWarning)\n"
     ]
    },
    {
     "data": {
      "text/plain": [
       "Sequential(\n",
       "  (0): Sequential(\n",
       "    (0): Normalize()\n",
       "    (1): ConvNet(\n",
       "      (conv1): Conv2d(1, 32, kernel_size=(5, 5), stride=(1, 1))\n",
       "      (bn1): BatchNorm2d(32, eps=1e-05, momentum=0.1, affine=True, track_running_stats=True)\n",
       "      (conv2): Conv2d(32, 32, kernel_size=(5, 5), stride=(1, 1))\n",
       "      (bn2): BatchNorm2d(32, eps=1e-05, momentum=0.1, affine=True, track_running_stats=True)\n",
       "      (conv2_drop): Dropout2d(p=0.2, inplace=False)\n",
       "      (fc1): Linear(in_features=128, out_features=100, bias=True)\n",
       "      (fc2): Linear(in_features=100, out_features=10, bias=True)\n",
       "      (conv3): Conv2d(32, 64, kernel_size=(3, 3), stride=(1, 1))\n",
       "      (bn3): BatchNorm2d(64, eps=1e-05, momentum=0.1, affine=True, track_running_stats=True)\n",
       "      (conv4): Conv2d(64, 64, kernel_size=(3, 3), stride=(1, 1))\n",
       "      (bn4): BatchNorm2d(64, eps=1e-05, momentum=0.1, affine=True, track_running_stats=True)\n",
       "      (conv5): Conv2d(64, 128, kernel_size=(3, 3), stride=(1, 1))\n",
       "      (bn5): BatchNorm2d(128, eps=1e-05, momentum=0.1, affine=True, track_running_stats=True)\n",
       "      (conv6): Conv2d(128, 128, kernel_size=(1, 1), stride=(1, 1))\n",
       "      (bn6): BatchNorm2d(128, eps=1e-05, momentum=0.1, affine=True, track_running_stats=True)\n",
       "    )\n",
       "  )\n",
       "  (1): Softmax(dim=None)\n",
       ")"
      ]
     },
     "execution_count": 5,
     "metadata": {},
     "output_type": "execute_result"
    }
   ],
   "source": [
    "\"\"\"Load the body of the pre-trained neural net\"\"\"\n",
    "model = torch.load('model.net', map_location='cpu')\n",
    "\n",
    "\"\"\"\n",
    "Add data normalization as a first \"layer\" to the network\n",
    "It allows us to search for adversarial examples to the real image, rather than to the normalized image.\n",
    "\"\"\"\n",
    "model = nn.Sequential(Normalize(), model)\n",
    "\n",
    "\"\"\"\n",
    "Create a version of the model that outputs the class probabilities\n",
    "\"\"\"\n",
    "model_to_prob = nn.Sequential(model, nn.Softmax())\n",
    "\n",
    "\"\"\"\n",
    "We put the NN into evaluation mode (this disables features like dropout)\n",
    "\"\"\"\n",
    "model.eval()\n",
    "model_to_prob.eval()"
   ]
  },
  {
   "cell_type": "code",
   "execution_count": 6,
   "metadata": {},
   "outputs": [],
   "source": [
    "# x: input image\n",
    "# target: target class\n",
    "# eps: size of l-infinity ball\n",
    "def fgsm_targeted(model, x, target, eps, **kwargs):\n",
    "    return _fgsm(model, x, target, eps, targeted=True, **kwargs)\n",
    "\n",
    "\n",
    "def fgsm_untargeted(model, x, label, eps, **kwargs):\n",
    "    return _fgsm(model, x, label, eps, targeted=False, **kwargs)\n",
    "\n",
    "\n",
    "def _fgsm(model, x, target, eps, targeted=True, clip_min=None, clip_max=None):\n",
    "    \"\"\"Internal process for all FGSM and PGD attacks\"\"\"\n",
    "\n",
    "    # Create a copy of the input\n",
    "    # Detach --> move to RAM\n",
    "    input_ = x.clone().detach_()\n",
    "\n",
    "    # Make sure we are differentiating toward that variable\n",
    "    input_.requires_grad_()\n",
    "\n",
    "    # Run the model and obtain the loss\n",
    "    prediction = model(input_)\n",
    "    \n",
    "    # Transform target into PyTorch understandable type\n",
    "    target = torch.LongTensor([target])\n",
    "    \n",
    "    # Initialize every gradient of every component to be 0 \n",
    "    model.zero_grad()\n",
    "\n",
    "    loss = nn.CrossEntropyLoss()(prediction, target)\n",
    "    \n",
    "    # Computes derivative w.r.t input for every parameter of input that has required gradient\n",
    "    loss.backward()\n",
    "\n",
    "    if targeted:\n",
    "        modified_input = input_ - eps * input_.grad.sign()\n",
    "    else:\n",
    "        modified_input = input_ + eps * input_.grad.sign()\n",
    "\n",
    "    # Clip the output back to the image value domain\n",
    "    if clip_min or clip_max:\n",
    "        modified_input.clamp_(min=clip_min, max=clip_max)\n",
    "\n",
    "    return modified_input"
   ]
  },
  {
   "cell_type": "code",
   "execution_count": 7,
   "metadata": {},
   "outputs": [],
   "source": [
    "def pgd(model, x, label, k, eps, eps_step, clip_min=None, clip_max=None):\n",
    "    x_min = x - eps\n",
    "    x_max = x + eps\n",
    "\n",
    "    # Randomize the starting point x\n",
    "    x = x + eps * (2 * torch.rand_like(x) - 1)\n",
    "\n",
    "    if clip_min or clip_max:\n",
    "        x.clamp(min=clip_min, max=clip_max)\n",
    "    \n",
    "    # Do GD update step\n",
    "    for i in range(k):\n",
    "        # Compute FGSM\n",
    "        x = _fgsm(model, x, label, eps_step, targeted=False)\n",
    "        \n",
    "        # Project given value\n",
    "        x = torch.max(x_min, x)\n",
    "        x = torch.min(x_max, x)\n",
    "\n",
    "    if clip_min or clip_max:\n",
    "        x.clamp(min=clip_min, max=clip_max)\n",
    "\n",
    "    return x"
   ]
  },
  {
   "cell_type": "code",
   "execution_count": 8,
   "metadata": {},
   "outputs": [
    {
     "name": "stderr",
     "output_type": "stream",
     "text": [
      "/Library/Frameworks/Python.framework/Versions/3.8/lib/python3.8/site-packages/torch/nn/modules/container.py:139: UserWarning: Implicit dimension choice for softmax has been deprecated. Change the call to include dim=X as an argument.\n",
      "  input = module(input)\n"
     ]
    },
    {
     "name": "stdout",
     "output_type": "stream",
     "text": [
      "Class\t\tOrig\tAdv\n",
      "Class 0:\t0.00\t0.00\n",
      "Class 1:\t0.00\t0.00\n",
      "Class 2:\t0.00\t0.02\n",
      "Class 3:\t0.00\t0.43\n",
      "Class 4:\t0.00\t0.01\n",
      "Class 5:\t0.00\t0.01\n",
      "Class 6:\t0.00\t0.00\n",
      "Class 7:\t1.00\t0.35\n",
      "Class 8:\t0.00\t0.06\n",
      "Class 9:\t0.00\t0.12\n"
     ]
    },
    {
     "data": {
      "image/png": "[encoded data removed]",
      "text/plain": [
       "<Figure size 432x288 with 2 Axes>"
      ]
     },
     "metadata": {
      "needs_background": "light"
     },
     "output_type": "display_data"
    },
    {
     "name": "stdout",
     "output_type": "stream",
     "text": [
      "Class\t\tOrig\tAdv\n",
      "Class 0:\t0.00\t0.00\n",
      "Class 1:\t0.00\t0.00\n",
      "Class 2:\t0.00\t0.01\n",
      "Class 3:\t0.00\t0.80\n",
      "Class 4:\t0.00\t0.00\n",
      "Class 5:\t0.00\t0.01\n",
      "Class 6:\t0.00\t0.00\n",
      "Class 7:\t1.00\t0.15\n",
      "Class 8:\t0.00\t0.02\n",
      "Class 9:\t0.00\t0.01\n"
     ]
    },
    {
     "data": {
      "image/png": "[encoded data removed]",
      "text/plain": [
       "<Figure size 432x288 with 2 Axes>"
      ]
     },
     "metadata": {
      "needs_background": "light"
     },
     "output_type": "display_data"
    },
    {
     "name": "stdout",
     "output_type": "stream",
     "text": [
      "Class\t\tOrig\tAdv\n",
      "Class 0:\t0.00\t0.00\n",
      "Class 1:\t0.00\t0.00\n",
      "Class 2:\t0.00\t0.00\n",
      "Class 3:\t0.00\t1.00\n",
      "Class 4:\t0.00\t0.00\n",
      "Class 5:\t0.00\t0.00\n",
      "Class 6:\t0.00\t0.00\n",
      "Class 7:\t1.00\t0.00\n",
      "Class 8:\t0.00\t0.00\n",
      "Class 9:\t0.00\t0.00\n"
     ]
    },
    {
     "data": {
      "image/png": "[encoded data removed]",
      "text/plain": [
       "<Figure size 432x288 with 2 Axes>"
      ]
     },
     "metadata": {
      "needs_background": "light"
     },
     "output_type": "display_data"
    }
   ],
   "source": [
    "# Try out our attacks\n",
    "original = torch.unsqueeze(test_dataset[0][0], dim=0)\n",
    "\n",
    "# Untarget FGSM attack\n",
    "adv = fgsm_untargeted(model, original, label=7, eps=0.25, clip_min=0, clip_max=1.0)\n",
    "show(original, adv, model_to_prob)\n",
    "plt.show()\n",
    "\n",
    "# Target FGSM attack\n",
    "adv = fgsm_targeted(model, original, target=3, eps=0.2, clip_min=0, clip_max=1.0)\n",
    "show(original, adv, model_to_prob)\n",
    "plt.show()\n",
    "\n",
    "# PGD attack\n",
    "adv = pgd(model, original, label=7, k=10, eps=0.08,\n",
    "          eps_step=0.05, clip_min=0, clip_max=1.0)\n",
    "\n",
    "show(original, adv, model_to_prob)\n",
    "plt.show()"
   ]
  }
 ],
 "metadata": {
  "interpreter": {
   "hash": "aee8b7b246df8f9039afb4144a1f6fd8d2ca17a180786b69acc140d282b71a49"
  },
  "kernelspec": {
   "display_name": "Python 3.8.9 64-bit",
   "name": "python3"
  },
  "language_info": {
   "codemirror_mode": {
    "name": "ipython",
    "version": 3
   },
   "file_extension": ".py",
   "mimetype": "text/x-python",
   "name": "python",
   "nbconvert_exporter": "python",
   "pygments_lexer": "ipython3",
   "version": "3.8.9"
  },
  "orig_nbformat": 4
 },
 "nbformat": 4,
 "nbformat_minor": 2
}
